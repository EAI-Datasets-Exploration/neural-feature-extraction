{
 "cells": [
  {
   "cell_type": "code",
   "execution_count": 1,
   "metadata": {},
   "outputs": [
    {
     "name": "stderr",
     "output_type": "stream",
     "text": [
      "/home/slwanna/miniconda3/envs/neural-feature-extraction/lib/python3.8/site-packages/sentence_transformers/cross_encoder/CrossEncoder.py:13: TqdmWarning: IProgress not found. Please update jupyter and ipywidgets. See https://ipywidgets.readthedocs.io/en/stable/user_install.html\n",
      "  from tqdm.autonotebook import tqdm, trange\n"
     ]
    }
   ],
   "source": [
    "import sys\n",
    "sys.path.append('../')\n",
    "\n",
    "import os\n",
    "import json\n",
    "import pandas as pd\n",
    "from sentence_transformers import SentenceTransformer\n",
    "\n",
    "# from read_data.utils import grab_dataset\n",
    "from preprocessing import clean_and_standardize_text"
   ]
  },
  {
   "cell_type": "code",
   "execution_count": 2,
   "metadata": {},
   "outputs": [
    {
     "name": "stderr",
     "output_type": "stream",
     "text": [
      "/home/slwanna/miniconda3/envs/neural-feature-extraction/lib/python3.8/site-packages/transformers/tokenization_utils_base.py:1617: FutureWarning: `clean_up_tokenization_spaces` was not set. It will be set to `True` by default. This behavior will be deprecated in transformers v4.45, and will be then set to `False` by default. For more details check this issue: https://github.com/huggingface/transformers/issues/31884\n",
      "  warnings.warn(\n"
     ]
    }
   ],
   "source": [
    "# Load Dataset\n",
    "dataset_dir_path = \"/home/slwanna/dataset-download-scripts/language_only_datasets/\"\n",
    "dataset_name = \"rt1\"\n",
    "\n",
    "with open(f\"{dataset_dir_path}metadata.json\", \"r\", encoding=\"utf-8\") as json_file:\n",
    "        # The metadata file referenced here is contained in the repo:\n",
    "        # dataset-download-scripts package hosted in the larger GitHub group.\n",
    "        metadata_dict = json.load(json_file)\n",
    "\n",
    "ds_path = metadata_dict[dataset_name]\n",
    "\n",
    "# Begin text feature processing\n",
    "df = pd.read_csv(dataset_dir_path + ds_path)\n",
    "\n",
    "df = clean_and_standardize_text(df, nl_column=\"nl_instructions\")\n",
    "\n",
    "# Load Model\n",
    "model_name = \"all-mpnet-base-v2\" # sbert\n",
    "model = SentenceTransformer(model_name, trust_remote_code=True)\n",
    "\n",
    "data = list(df[\"nl_instructions\"])\n",
    "# Grab embeddings\n",
    "EMBEDDINGS = model.encode(data)"
   ]
  },
  {
   "cell_type": "code",
   "execution_count": 3,
   "metadata": {},
   "outputs": [],
   "source": [
    "# Save results\n",
    "model_name = model_name.replace(\"/\", \"_\")\n",
    "results_dir = \"results\"\n",
    "results_fp = results_dir + \"/01_\" + model_name + \"_\" + dataset_name\n",
    "\n",
    "os.makedirs(results_dir, exist_ok=True)\n",
    "\n",
    "results_dict = {\n",
    "    \"nl_command_exs\": data,\n",
    "    \"embedding\": EMBEDDINGS.tolist(),\n",
    "}\n",
    "results_df = pd.DataFrame(results_dict)\n",
    "results_df.to_csv(f\"{results_fp}.csv\")"
   ]
  }
 ],
 "metadata": {
  "kernelspec": {
   "display_name": "neural-feature-extraction",
   "language": "python",
   "name": "python3"
  },
  "language_info": {
   "codemirror_mode": {
    "name": "ipython",
    "version": 3
   },
   "file_extension": ".py",
   "mimetype": "text/x-python",
   "name": "python",
   "nbconvert_exporter": "python",
   "pygments_lexer": "ipython3",
   "version": "3.8.19"
  }
 },
 "nbformat": 4,
 "nbformat_minor": 2
}
